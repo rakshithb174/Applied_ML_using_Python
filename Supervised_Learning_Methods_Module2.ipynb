{
 "cells": [
  {
   "cell_type": "markdown",
   "metadata": {},
   "source": [
    "# Applied Machine Learning: Module 2 (Supervised Learning, Part 1)"
   ]
  },
  {
   "cell_type": "markdown",
   "metadata": {},
   "source": [
    "Supervised Learning:\n",
    "\n",
    "1. Classification: Target values (y) is a DISCRETE class value; Can be:\n",
    "a. BINARY classification (two target values) \n",
    "b. Multi-class Classification (more than two target values)\n",
    "c. Multi-label Classification\n",
    "2. Regression: Target values (y) is a CONTINUOUS value"
   ]
  },
  {
   "cell_type": "markdown",
   "metadata": {},
   "source": [
    "Look at two powerful prediction algorithms:\n",
    "1. k-NN: \n",
    "makes few assumptions about structure of the data and gives potentially accurate but sometimes unstable predictions (sensitive to small changes in training data)\n",
    "2. Linear Model Fit using Least Sqaures: \n",
    "makes strong assumption about structure of the data and give stable but potentially inaccurate results"
   ]
  },
  {
   "cell_type": "code",
   "execution_count": null,
   "metadata": {
    "collapsed": true
   },
   "outputs": [],
   "source": []
  }
 ],
 "metadata": {
  "kernelspec": {
   "display_name": "Python 3",
   "language": "python",
   "name": "python3"
  },
  "language_info": {
   "codemirror_mode": {
    "name": "ipython",
    "version": 3
   },
   "file_extension": ".py",
   "mimetype": "text/x-python",
   "name": "python",
   "nbconvert_exporter": "python",
   "pygments_lexer": "ipython3",
   "version": "3.6.1"
  }
 },
 "nbformat": 4,
 "nbformat_minor": 2
}
